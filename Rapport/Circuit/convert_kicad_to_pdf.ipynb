{
 "cells": [
  {
   "cell_type": "code",
   "execution_count": 78,
   "metadata": {
    "metadata": {}
   },
   "outputs": [
    {
     "name": "stdout",
     "output_type": "stream",
     "text": [
      "Plotted to 'outputs/Arcana.pdf'.\n",
      "Done.\n",
      "Plotted to 'outputs/Gruvbox.pdf'.\n",
      "Done.\n",
      "Plotted to 'outputs/Kicad Classic.pdf'.\n",
      "Done.\n",
      "Plotted to 'outputs/Kicad Default.pdf'.\n",
      "Done.\n",
      "Plotted to 'outputs/Monokai High Contrast.pdf'.\n",
      "Done.\n",
      "Plotted to 'outputs/Nord.pdf'.\n",
      "Done.\n",
      "Plotted to 'outputs/Nuova Elettronica.pdf'.\n",
      "Done.\n",
      "Plotted to 'outputs/Skyline.pdf'.\n",
      "Done.\n",
      "Plotted to 'outputs/Vampire.pdf'.\n",
      "Done.\n",
      "Plotted to 'outputs/Witch Hazel.pdf'.\n",
      "Done.\n"
     ]
    }
   ],
   "source": [
    "import os, sys\n",
    "import glob\n",
    "theme = [\"Arcana\",\n",
    "        \"Gruvbox\",\n",
    "        \"Kicad Classic\",\n",
    "        \"Kicad Default\",\n",
    "        \"Monokai High Contrast\",\n",
    "        \"Nord\",\n",
    "        \"Nuova Elettronica\",\n",
    "        \"Skyline\",\n",
    "        #\"Solarized Dark\",\n",
    "        #\"Solarized Light\",\n",
    "        \"Vampire\",\n",
    "        \"Witch Hazel\"]\n",
    "\n",
    "command = sys.argv[1:]\n",
    "\n",
    "for i in range(len(theme)):\n",
    "    #print(theme[i])\n",
    "    os.system(\"kicad-cli sch export pdf -o 'outputs/\"+theme[i]+\".pdf' -t '\" + theme[i] +\"' -e -n Common-Emitter/Common-Emitter.kicad_sch \") "
   ]
  },
  {
   "cell_type": "code",
   "execution_count": 132,
   "metadata": {
    "metadata": {}
   },
   "outputs": [
    {
     "name": "stdout",
     "output_type": "stream",
     "text": [
      "Plotted to 'outputs/Common-Emitter.pdf'.\n",
      "Done.\n"
     ]
    }
   ],
   "source": [
    "#Find all .sch files\n",
    "path = os.getcwd()\n",
    "#print(path)\n",
    "direct = glob.glob(path+\"/*/\")\n",
    "#print(direct)\n",
    "\n",
    "schematic_file = []\n",
    "\n",
    "for i in range(len(direct)):\n",
    "    schematic_file.append(glob.glob(direct[i]+\"*.kicad_sch\"))\n",
    "schematic_file.pop()\n",
    "#print(schematic_file)\n",
    "\n",
    "#Plot PDF\n",
    "for i in range(len(schematic_file)):\n",
    "    string = schematic_file[i][:]\n",
    "    string_splice_begin = string[0].rfind(\"/\")\n",
    "    string = string[0][string_splice_begin+1:len(string[0])-10]\n",
    "    os.system(\"kicad-cli sch export pdf -o 'outputs/\"+string+\".pdf' -t '\" + theme[6] +\"' -e -n Common-Emitter/Common-Emitter.kicad_sch \") \n",
    "\n"
   ]
  }
 ],
 "metadata": {
  "kernelspec": {
   "display_name": "gdsfactoryENV",
   "language": "python",
   "name": "python3"
  },
  "language_info": {
   "codemirror_mode": {
    "name": "ipython",
    "version": 3
   },
   "file_extension": ".py",
   "mimetype": "text/x-python",
   "name": "python",
   "nbconvert_exporter": "python",
   "pygments_lexer": "ipython3",
   "version": "3.12.3"
  }
 },
 "nbformat": 4,
 "nbformat_minor": 2
}
